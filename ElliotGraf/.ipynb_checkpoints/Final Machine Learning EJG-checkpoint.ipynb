{
 "cells": [
  {
   "cell_type": "code",
   "execution_count": 1,
   "metadata": {},
   "outputs": [],
   "source": [
    "import pandas as pd\n",
    "import matplotlib.pyplot as plt\n",
    "import seaborn as sns\n",
    "%matplotlib inline"
   ]
  },
  {
   "cell_type": "code",
   "execution_count": 2,
   "metadata": {},
   "outputs": [
    {
     "data": {
      "text/html": [
       "<div>\n",
       "<style scoped>\n",
       "    .dataframe tbody tr th:only-of-type {\n",
       "        vertical-align: middle;\n",
       "    }\n",
       "\n",
       "    .dataframe tbody tr th {\n",
       "        vertical-align: top;\n",
       "    }\n",
       "\n",
       "    .dataframe thead th {\n",
       "        text-align: right;\n",
       "    }\n",
       "</style>\n",
       "<table border=\"1\" class=\"dataframe\">\n",
       "  <thead>\n",
       "    <tr style=\"text-align: right;\">\n",
       "      <th></th>\n",
       "      <th>fixed acidity</th>\n",
       "      <th>volatile acidity</th>\n",
       "      <th>citric acid</th>\n",
       "      <th>residual sugar</th>\n",
       "      <th>chlorides</th>\n",
       "      <th>free sulfur dioxide</th>\n",
       "      <th>total sulfur dioxide</th>\n",
       "      <th>density</th>\n",
       "      <th>pH</th>\n",
       "      <th>sulphates</th>\n",
       "      <th>alcohol</th>\n",
       "      <th>quality</th>\n",
       "    </tr>\n",
       "  </thead>\n",
       "  <tbody>\n",
       "    <tr>\n",
       "      <th>0</th>\n",
       "      <td>7.4</td>\n",
       "      <td>0.70</td>\n",
       "      <td>0.00</td>\n",
       "      <td>1.9</td>\n",
       "      <td>0.076</td>\n",
       "      <td>11.0</td>\n",
       "      <td>34.0</td>\n",
       "      <td>0.9978</td>\n",
       "      <td>3.51</td>\n",
       "      <td>0.56</td>\n",
       "      <td>9.4</td>\n",
       "      <td>5</td>\n",
       "    </tr>\n",
       "    <tr>\n",
       "      <th>1</th>\n",
       "      <td>7.8</td>\n",
       "      <td>0.88</td>\n",
       "      <td>0.00</td>\n",
       "      <td>2.6</td>\n",
       "      <td>0.098</td>\n",
       "      <td>25.0</td>\n",
       "      <td>67.0</td>\n",
       "      <td>0.9968</td>\n",
       "      <td>3.20</td>\n",
       "      <td>0.68</td>\n",
       "      <td>9.8</td>\n",
       "      <td>5</td>\n",
       "    </tr>\n",
       "    <tr>\n",
       "      <th>2</th>\n",
       "      <td>7.8</td>\n",
       "      <td>0.76</td>\n",
       "      <td>0.04</td>\n",
       "      <td>2.3</td>\n",
       "      <td>0.092</td>\n",
       "      <td>15.0</td>\n",
       "      <td>54.0</td>\n",
       "      <td>0.9970</td>\n",
       "      <td>3.26</td>\n",
       "      <td>0.65</td>\n",
       "      <td>9.8</td>\n",
       "      <td>5</td>\n",
       "    </tr>\n",
       "  </tbody>\n",
       "</table>\n",
       "</div>"
      ],
      "text/plain": [
       "   fixed acidity  volatile acidity  citric acid  residual sugar  chlorides  \\\n",
       "0            7.4              0.70         0.00             1.9      0.076   \n",
       "1            7.8              0.88         0.00             2.6      0.098   \n",
       "2            7.8              0.76         0.04             2.3      0.092   \n",
       "\n",
       "   free sulfur dioxide  total sulfur dioxide  density    pH  sulphates  \\\n",
       "0                 11.0                  34.0   0.9978  3.51       0.56   \n",
       "1                 25.0                  67.0   0.9968  3.20       0.68   \n",
       "2                 15.0                  54.0   0.9970  3.26       0.65   \n",
       "\n",
       "   alcohol  quality  \n",
       "0      9.4        5  \n",
       "1      9.8        5  \n",
       "2      9.8        5  "
      ]
     },
     "execution_count": 2,
     "metadata": {},
     "output_type": "execute_result"
    }
   ],
   "source": [
    "df = pd.read_csv(\"winequality-red.csv\")\n",
    "df.head(3)"
   ]
  },
  {
   "cell_type": "code",
   "execution_count": 3,
   "metadata": {},
   "outputs": [],
   "source": [
    "df=df.drop(columns=[\"fixed acidity\",\"citric acid\", \"free sulfur dioxide\", \"total sulfur dioxide\", \"pH\",\"sulphates\"])"
   ]
  },
  {
   "cell_type": "code",
   "execution_count": 4,
   "metadata": {},
   "outputs": [],
   "source": [
    "quality = df[\"quality\"].values\n",
    "category = []\n",
    "for num in quality:\n",
    "    if num<5:\n",
    "        category.append(\"Bad\")\n",
    "    elif num==5:\n",
    "        category.append(\"Good\")\n",
    "    elif num==6:\n",
    "        category.append(\"Above Average\")\n",
    "    else:\n",
    "        category.append(\"Excellent\")"
   ]
  },
  {
   "cell_type": "code",
   "execution_count": 5,
   "metadata": {},
   "outputs": [
    {
     "data": {
      "text/html": [
       "<div>\n",
       "<style scoped>\n",
       "    .dataframe tbody tr th:only-of-type {\n",
       "        vertical-align: middle;\n",
       "    }\n",
       "\n",
       "    .dataframe tbody tr th {\n",
       "        vertical-align: top;\n",
       "    }\n",
       "\n",
       "    .dataframe thead th {\n",
       "        text-align: right;\n",
       "    }\n",
       "</style>\n",
       "<table border=\"1\" class=\"dataframe\">\n",
       "  <thead>\n",
       "    <tr style=\"text-align: right;\">\n",
       "      <th></th>\n",
       "      <th>volatile acidity</th>\n",
       "      <th>residual sugar</th>\n",
       "      <th>chlorides</th>\n",
       "      <th>density</th>\n",
       "      <th>alcohol</th>\n",
       "      <th>category</th>\n",
       "    </tr>\n",
       "  </thead>\n",
       "  <tbody>\n",
       "    <tr>\n",
       "      <th>0</th>\n",
       "      <td>0.70</td>\n",
       "      <td>1.9</td>\n",
       "      <td>0.076</td>\n",
       "      <td>0.9978</td>\n",
       "      <td>9.4</td>\n",
       "      <td>Good</td>\n",
       "    </tr>\n",
       "    <tr>\n",
       "      <th>1</th>\n",
       "      <td>0.88</td>\n",
       "      <td>2.6</td>\n",
       "      <td>0.098</td>\n",
       "      <td>0.9968</td>\n",
       "      <td>9.8</td>\n",
       "      <td>Good</td>\n",
       "    </tr>\n",
       "    <tr>\n",
       "      <th>2</th>\n",
       "      <td>0.76</td>\n",
       "      <td>2.3</td>\n",
       "      <td>0.092</td>\n",
       "      <td>0.9970</td>\n",
       "      <td>9.8</td>\n",
       "      <td>Good</td>\n",
       "    </tr>\n",
       "    <tr>\n",
       "      <th>3</th>\n",
       "      <td>0.28</td>\n",
       "      <td>1.9</td>\n",
       "      <td>0.075</td>\n",
       "      <td>0.9980</td>\n",
       "      <td>9.8</td>\n",
       "      <td>Above Average</td>\n",
       "    </tr>\n",
       "    <tr>\n",
       "      <th>4</th>\n",
       "      <td>0.70</td>\n",
       "      <td>1.9</td>\n",
       "      <td>0.076</td>\n",
       "      <td>0.9978</td>\n",
       "      <td>9.4</td>\n",
       "      <td>Good</td>\n",
       "    </tr>\n",
       "  </tbody>\n",
       "</table>\n",
       "</div>"
      ],
      "text/plain": [
       "   volatile acidity  residual sugar  chlorides  density  alcohol  \\\n",
       "0              0.70             1.9      0.076   0.9978      9.4   \n",
       "1              0.88             2.6      0.098   0.9968      9.8   \n",
       "2              0.76             2.3      0.092   0.9970      9.8   \n",
       "3              0.28             1.9      0.075   0.9980      9.8   \n",
       "4              0.70             1.9      0.076   0.9978      9.4   \n",
       "\n",
       "        category  \n",
       "0           Good  \n",
       "1           Good  \n",
       "2           Good  \n",
       "3  Above Average  \n",
       "4           Good  "
      ]
     },
     "execution_count": 5,
     "metadata": {},
     "output_type": "execute_result"
    }
   ],
   "source": [
    "#Create new data\n",
    "category = pd.DataFrame(data=category, columns=[\"category\"])\n",
    "data = pd.concat([df,category],axis=1)\n",
    "data.drop(columns=\"quality\",axis=1,inplace=True)\n",
    "data.head()\n"
   ]
  },
  {
   "cell_type": "code",
   "execution_count": 6,
   "metadata": {},
   "outputs": [
    {
     "data": {
      "text/plain": [
       "Good             681\n",
       "Above Average    638\n",
       "Excellent        217\n",
       "Bad               63\n",
       "Name: category, dtype: int64"
      ]
     },
     "execution_count": 6,
     "metadata": {},
     "output_type": "execute_result"
    },
    {
     "data": {
      "image/png": "[encoded data removed]",
      "text/plain": [
       "<Figure size 720x432 with 1 Axes>"
      ]
     },
     "metadata": {
      "needs_background": "light"
     },
     "output_type": "display_data"
    }
   ],
   "source": [
    "plt.figure(figsize=(10,6))\n",
    "sns.countplot(data[\"category\"],palette=\"muted\")\n",
    "data[\"category\"].value_counts()"
   ]
  },
  {
   "cell_type": "code",
   "execution_count": 7,
   "metadata": {},
   "outputs": [],
   "source": [
    "X= data.iloc[:,:-1].values\n",
    "y=data.iloc[:,-1].values"
   ]
  },
  {
   "cell_type": "code",
   "execution_count": 8,
   "metadata": {},
   "outputs": [],
   "source": [
    "from sklearn.preprocessing import LabelEncoder\n",
    "labelencoder_y =LabelEncoder()\n",
    "y= labelencoder_y.fit_transform(y)"
   ]
  },
  {
   "cell_type": "code",
   "execution_count": 9,
   "metadata": {},
   "outputs": [],
   "source": [
    "from sklearn.model_selection import train_test_split\n",
    "X_train, X_test, y_train, y_test = train_test_split(X, y, test_size = .5,random_state=0)"
   ]
  },
  {
   "cell_type": "code",
   "execution_count": 10,
   "metadata": {},
   "outputs": [],
   "source": [
    "from sklearn.preprocessing import StandardScaler\n",
    "sc_X = StandardScaler()\n",
    "X_train = sc_X.fit_transform(X_train)\n",
    "X_test = sc_X.transform(X_test)"
   ]
  },
  {
   "cell_type": "code",
   "execution_count": 11,
   "metadata": {},
   "outputs": [],
   "source": [
    "from sklearn.svm import SVC\n",
    "svc = SVC()\n",
    "svc.fit(X_train,y_train)\n",
    "pred_svc =svc.predict(X_test)"
   ]
  },
  {
   "cell_type": "code",
   "execution_count": 12,
   "metadata": {},
   "outputs": [
    {
     "name": "stdout",
     "output_type": "stream",
     "text": [
      "              precision    recall  f1-score   support\n",
      "\n",
      "           0       0.58      0.54      0.56       333\n",
      "           1       1.00      0.03      0.06        31\n",
      "           2       0.44      0.37      0.40        91\n",
      "           3       0.64      0.77      0.70       345\n",
      "\n",
      "   micro avg       0.60      0.60      0.60       800\n",
      "   macro avg       0.67      0.43      0.43       800\n",
      "weighted avg       0.61      0.60      0.58       800\n",
      "\n"
     ]
    }
   ],
   "source": [
    "from sklearn.metrics import classification_report,accuracy_score\n",
    "print(classification_report(y_test,pred_svc))"
   ]
  },
  {
   "cell_type": "code",
   "execution_count": 13,
   "metadata": {},
   "outputs": [
    {
     "name": "stdout",
     "output_type": "stream",
     "text": [
      "              precision    recall  f1-score   support\n",
      "\n",
      "           0       0.60      0.61      0.61       333\n",
      "           1       0.25      0.03      0.06        31\n",
      "           2       0.42      0.47      0.44        91\n",
      "           3       0.70      0.72      0.71       345\n",
      "\n",
      "   micro avg       0.62      0.62      0.62       800\n",
      "   macro avg       0.49      0.46      0.45       800\n",
      "weighted avg       0.61      0.62      0.61       800\n",
      "\n"
     ]
    }
   ],
   "source": [
    "from sklearn.ensemble import RandomForestClassifier\n",
    "rfc = RandomForestClassifier(n_estimators=250)\n",
    "rfc.fit(X_train, y_train)\n",
    "pred_rfc = rfc.predict(X_test)\n",
    "print(classification_report(y_test, pred_rfc))"
   ]
  },
  {
   "cell_type": "code",
   "execution_count": 14,
   "metadata": {},
   "outputs": [
    {
     "name": "stdout",
     "output_type": "stream",
     "text": [
      "              precision    recall  f1-score   support\n",
      "\n",
      "           0       0.51      0.49      0.50       333\n",
      "           1       0.14      0.03      0.05        31\n",
      "           2       0.38      0.48      0.43        91\n",
      "           3       0.61      0.63      0.62       345\n",
      "\n",
      "   micro avg       0.53      0.53      0.53       800\n",
      "   macro avg       0.41      0.41      0.40       800\n",
      "weighted avg       0.52      0.53      0.52       800\n",
      "\n"
     ]
    }
   ],
   "source": [
    "from sklearn.neighbors import KNeighborsClassifier\n",
    "knn = KNeighborsClassifier()\n",
    "knn.fit(X_train,y_train)\n",
    "pred_knn=knn.predict(X_test)\n",
    "print(classification_report(y_test, pred_knn))"
   ]
  },
  {
   "cell_type": "code",
   "execution_count": 15,
   "metadata": {},
   "outputs": [
    {
     "data": {
      "text/html": [
       "<div>\n",
       "<style scoped>\n",
       "    .dataframe tbody tr th:only-of-type {\n",
       "        vertical-align: middle;\n",
       "    }\n",
       "\n",
       "    .dataframe tbody tr th {\n",
       "        vertical-align: top;\n",
       "    }\n",
       "\n",
       "    .dataframe thead th {\n",
       "        text-align: right;\n",
       "    }\n",
       "</style>\n",
       "<table border=\"1\" class=\"dataframe\">\n",
       "  <thead>\n",
       "    <tr style=\"text-align: right;\">\n",
       "      <th></th>\n",
       "      <th>models</th>\n",
       "      <th>accuracies</th>\n",
       "    </tr>\n",
       "  </thead>\n",
       "  <tbody>\n",
       "    <tr>\n",
       "      <th>0</th>\n",
       "      <td>SVC</td>\n",
       "      <td>0.59750</td>\n",
       "    </tr>\n",
       "    <tr>\n",
       "      <th>1</th>\n",
       "      <td>Random Forest</td>\n",
       "      <td>0.62000</td>\n",
       "    </tr>\n",
       "    <tr>\n",
       "      <th>2</th>\n",
       "      <td>KNN</td>\n",
       "      <td>0.53125</td>\n",
       "    </tr>\n",
       "  </tbody>\n",
       "</table>\n",
       "</div>"
      ],
      "text/plain": [
       "          models  accuracies\n",
       "0            SVC     0.59750\n",
       "1  Random Forest     0.62000\n",
       "2            KNN     0.53125"
      ]
     },
     "execution_count": 15,
     "metadata": {},
     "output_type": "execute_result"
    }
   ],
   "source": [
    "conclusion = pd.DataFrame({'models': [\"SVC\",\"Random Forest\",\"KNN\"],\n",
    "                           'accuracies': [accuracy_score(y_test,pred_svc),accuracy_score(y_test,pred_rfc),accuracy_score(y_test,pred_knn)]})\n",
    "conclusion"
   ]
  },
  {
   "cell_type": "code",
   "execution_count": 16,
   "metadata": {
    "scrolled": false
   },
   "outputs": [
    {
     "name": "stdout",
     "output_type": "stream",
     "text": [
      "[[203   0  48  82]\n",
      " [ 11   1   3  16]\n",
      " [ 40   0  43   8]\n",
      " [ 84   3   9 249]]\n",
      "62.0\n"
     ]
    }
   ],
   "source": [
    "from sklearn.metrics import confusion_matrix, accuracy_score\n",
    "#print confusion matrix and accuracy score\n",
    "lr_conf_matrix = confusion_matrix(y_test, pred_rfc)\n",
    "lr_acc_score = accuracy_score(y_test, pred_rfc)\n",
    "print(lr_conf_matrix)\n",
    "print(lr_acc_score*100)\n"
   ]
  },
  {
   "cell_type": "code",
   "execution_count": 17,
   "metadata": {
    "scrolled": false
   },
   "outputs": [
    {
     "name": "stderr",
     "output_type": "stream",
     "text": [
      "C:\\Users\\Graf\\Anaconda3\\lib\\site-packages\\matplotlib\\cbook\\__init__.py:424: MatplotlibDeprecationWarning: \n",
      "Passing one of 'on', 'true', 'off', 'false' as a boolean is deprecated; use an actual boolean (True/False) instead.\n",
      "  warn_deprecated(\"2.2\", \"Passing one of 'on', 'true', 'off', 'false' as a \"\n",
      "C:\\Users\\Graf\\Anaconda3\\lib\\site-packages\\matplotlib\\cbook\\__init__.py:424: MatplotlibDeprecationWarning: \n",
      "Passing one of 'on', 'true', 'off', 'false' as a boolean is deprecated; use an actual boolean (True/False) instead.\n",
      "  warn_deprecated(\"2.2\", \"Passing one of 'on', 'true', 'off', 'false' as a \"\n"
     ]
    },
    {
     "data": {
      "image/png": "[encoded data removed]",
      "text/plain": [
       "<Figure size 720x720 with 1 Axes>"
      ]
     },
     "metadata": {},
     "output_type": "display_data"
    }
   ],
   "source": [
    "import numpy as np\n",
    "\n",
    "def plot_confusion_matrix(\n",
    "    ax, matrix, labels, title='Random Forest Confusion matrix', fontsize=9):\n",
    "\n",
    "    ax.set_xticks([x for x in range(len(labels))])\n",
    "    ax.set_yticks([y for y in range(len(labels))])\n",
    "\n",
    "    # Place labels on minor ticks\n",
    "    ax.set_xticks([x + 0.5 for x in range(len(labels))], minor=True)\n",
    "    ax.set_xticklabels(labels, rotation='90', fontsize=fontsize, minor=True)\n",
    "    ax.set_yticks([y + 0.5 for y in range(len(labels))], minor=True)\n",
    "    ax.set_yticklabels(labels[::-1], fontsize=fontsize, minor=True)\n",
    "\n",
    "    # Hide major tick labels\n",
    "    ax.tick_params(which='major', labelbottom='off', labelleft='off')\n",
    "\n",
    "    # Finally, hide minor tick marks\n",
    "    ax.tick_params(which='minor', width=0)\n",
    "\n",
    "    # Plot heat map\n",
    "    proportions = [1. * row / sum(row) for row in matrix]\n",
    "    ax.pcolor(np.array(proportions[::-1]), cmap=plt.cm.Blues)\n",
    "\n",
    "    # Plot counts as text\n",
    "    for row in range(len(matrix)):\n",
    "        for col in range(len(matrix[row])):\n",
    "            confusion = matrix[::-1][row][col]\n",
    "            if confusion != 0:\n",
    "                ax.text(col + 0.5, row + 0.5, int(confusion),\n",
    "                        fontsize=fontsize,\n",
    "                        horizontalalignment='center',\n",
    "                        verticalalignment='center')\n",
    "\n",
    "    # Add finishing touches\n",
    "    ax.grid(True, linestyle=':')\n",
    "    ax.set_title(title, fontsize=fontsize)\n",
    "    ax.set_xlabel('Prediction', fontsize=fontsize)\n",
    "    ax.set_ylabel('Actual', fontsize=fontsize)\n",
    "\n",
    "    plt.savefig(\"Random Forest.png\")\n",
    "    plt.show()\n",
    "\n",
    "\n",
    "if __name__ == '__main__':\n",
    "    matrix = lr_conf_matrix \n",
    "    labels = ['Average','Bad',\"Excellent\", \"Good\"]\n",
    "    \n",
    "    fig, ax = plt.subplots(figsize=(10, 10))\n",
    "    \n",
    "    plot_confusion_matrix(ax, matrix, labels, fontsize=10)\n",
    "    \n"
   ]
  },
  {
   "cell_type": "code",
   "execution_count": 18,
   "metadata": {},
   "outputs": [
    {
     "name": "stdout",
     "output_type": "stream",
     "text": [
      "[[162   2  54 115]\n",
      " [ 11   1   3  16]\n",
      " [ 36   0  44  11]\n",
      " [108   4  15 218]]\n",
      "53.125\n"
     ]
    }
   ],
   "source": [
    "from sklearn.metrics import confusion_matrix, accuracy_score\n",
    "#print confusion matrix and accuracy score\n",
    "knn_conf_matrix = confusion_matrix(y_test, pred_knn)\n",
    "knn_acc_score = accuracy_score(y_test, pred_knn)\n",
    "print(knn_conf_matrix)\n",
    "print(knn_acc_score*100)"
   ]
  },
  {
   "cell_type": "code",
   "execution_count": 26,
   "metadata": {},
   "outputs": [
    {
     "name": "stderr",
     "output_type": "stream",
     "text": [
      "C:\\Users\\Graf\\Anaconda3\\lib\\site-packages\\matplotlib\\cbook\\__init__.py:424: MatplotlibDeprecationWarning: \n",
      "Passing one of 'on', 'true', 'off', 'false' as a boolean is deprecated; use an actual boolean (True/False) instead.\n",
      "  warn_deprecated(\"2.2\", \"Passing one of 'on', 'true', 'off', 'false' as a \"\n",
      "C:\\Users\\Graf\\Anaconda3\\lib\\site-packages\\matplotlib\\cbook\\__init__.py:424: MatplotlibDeprecationWarning: \n",
      "Passing one of 'on', 'true', 'off', 'false' as a boolean is deprecated; use an actual boolean (True/False) instead.\n",
      "  warn_deprecated(\"2.2\", \"Passing one of 'on', 'true', 'off', 'false' as a \"\n"
     ]
    },
    {
     "data": {
      "image/png": "[encoded data removed]",
      "text/plain": [
       "<Figure size 720x720 with 1 Axes>"
      ]
     },
     "metadata": {},
     "output_type": "display_data"
    }
   ],
   "source": [
    "def plot_confusion_matrix(\n",
    "    ax, matrix, labels, title='KNN Confusion matrix', fontsize=9):\n",
    "\n",
    "    ax.set_xticks([x for x in range(len(labels))])\n",
    "    ax.set_yticks([y for y in range(len(labels))])\n",
    "\n",
    "    # Place labels on minor ticks\n",
    "    ax.set_xticks([x + 0.5 for x in range(len(labels))], minor=True)\n",
    "    ax.set_xticklabels(labels, rotation='90', fontsize=fontsize, minor=True)\n",
    "    ax.set_yticks([y + 0.5 for y in range(len(labels))], minor=True)\n",
    "    ax.set_yticklabels(labels[::-1], fontsize=fontsize, minor=True)\n",
    "\n",
    "    # Hide major tick labels\n",
    "    ax.tick_params(which='major', labelbottom='off', labelleft='off')\n",
    "\n",
    "    # Finally, hide minor tick marks\n",
    "    ax.tick_params(which='minor', width=0)\n",
    "\n",
    "    # Plot heat map\n",
    "    proportions = [1. * row / sum(row) for row in matrix]\n",
    "    ax.pcolor(np.array(proportions[::-1]), cmap=plt.cm.Reds)\n",
    "\n",
    "    # Plot counts as text\n",
    "    for row in range(len(matrix)):\n",
    "        for col in range(len(matrix[row])):\n",
    "            confusion = matrix[::-1][row][col]\n",
    "            if confusion != 0:\n",
    "                ax.text(col + 0.5, row + 0.5, int(confusion),\n",
    "                        fontsize=fontsize,\n",
    "                        horizontalalignment='center',\n",
    "                        verticalalignment='center')\n",
    "\n",
    "    # Add finishing touches\n",
    "    ax.grid(True, linestyle=':')\n",
    "    ax.set_title(title, fontsize=fontsize)\n",
    "    ax.set_xlabel('Prediction', fontsize=fontsize)\n",
    "    ax.set_ylabel('Actual', fontsize=fontsize)\n",
    "\n",
    "    plt.savefig(\"KNN.png\")\n",
    "    plt.show()\n",
    "\n",
    "\n",
    "if __name__ == '__main__':\n",
    "    matrix = knn_conf_matrix \n",
    "    labels = ['Average','Bad',\"Excellent\", \"Good\"]\n",
    "    \n",
    "    fig, ax = plt.subplots(figsize=(10, 10))\n",
    "    \n",
    "    plot_confusion_matrix(ax, matrix, labels, fontsize=10)"
   ]
  },
  {
   "cell_type": "code",
   "execution_count": 22,
   "metadata": {},
   "outputs": [
    {
     "name": "stdout",
     "output_type": "stream",
     "text": [
      "[[179   0  35 119]\n",
      " [  7   1   2  21]\n",
      " [ 47   0  34  10]\n",
      " [ 75   0   6 264]]\n",
      "59.75\n"
     ]
    }
   ],
   "source": [
    "from sklearn.metrics import confusion_matrix, accuracy_score\n",
    "#print confusion matrix and accuracy score\n",
    "svc_conf_matrix = confusion_matrix(y_test, pred_svc)\n",
    "svc_acc_score = accuracy_score(y_test, pred_svc)\n",
    "print(svc_conf_matrix)\n",
    "print(svc_acc_score*100)"
   ]
  },
  {
   "cell_type": "code",
   "execution_count": 25,
   "metadata": {},
   "outputs": [
    {
     "name": "stderr",
     "output_type": "stream",
     "text": [
      "C:\\Users\\Graf\\Anaconda3\\lib\\site-packages\\matplotlib\\cbook\\__init__.py:424: MatplotlibDeprecationWarning: \n",
      "Passing one of 'on', 'true', 'off', 'false' as a boolean is deprecated; use an actual boolean (True/False) instead.\n",
      "  warn_deprecated(\"2.2\", \"Passing one of 'on', 'true', 'off', 'false' as a \"\n",
      "C:\\Users\\Graf\\Anaconda3\\lib\\site-packages\\matplotlib\\cbook\\__init__.py:424: MatplotlibDeprecationWarning: \n",
      "Passing one of 'on', 'true', 'off', 'false' as a boolean is deprecated; use an actual boolean (True/False) instead.\n",
      "  warn_deprecated(\"2.2\", \"Passing one of 'on', 'true', 'off', 'false' as a \"\n"
     ]
    },
    {
     "data": {
      "image/png": "[encoded data removed]",
      "text/plain": [
       "<Figure size 720x720 with 1 Axes>"
      ]
     },
     "metadata": {},
     "output_type": "display_data"
    }
   ],
   "source": [
    "def plot_confusion_matrix(\n",
    "    ax, matrix, labels, title='SVC Confusion matrix', fontsize=9):\n",
    "\n",
    "    ax.set_xticks([x for x in range(len(labels))])\n",
    "    ax.set_yticks([y for y in range(len(labels))])\n",
    "\n",
    "    # Place labels on minor ticks\n",
    "    ax.set_xticks([x + 0.5 for x in range(len(labels))], minor=True)\n",
    "    ax.set_xticklabels(labels, rotation='90', fontsize=fontsize, minor=True)\n",
    "    ax.set_yticks([y + 0.5 for y in range(len(labels))], minor=True)\n",
    "    ax.set_yticklabels(labels[::-1], fontsize=fontsize, minor=True)\n",
    "\n",
    "    # Hide major tick labels\n",
    "    ax.tick_params(which='major', labelbottom='off', labelleft='off')\n",
    "\n",
    "    # Finally, hide minor tick marks\n",
    "    ax.tick_params(which='minor', width=0)\n",
    "\n",
    "    # Plot heat map\n",
    "    proportions = [1. * row / sum(row) for row in matrix]\n",
    "    ax.pcolor(np.array(proportions[::-1]), cmap=plt.cm.Greens)\n",
    "\n",
    "    # Plot counts as text\n",
    "    for row in range(len(matrix)):\n",
    "        for col in range(len(matrix[row])):\n",
    "            confusion = matrix[::-1][row][col]\n",
    "            if confusion != 0:\n",
    "                ax.text(col + 0.5, row + 0.5, int(confusion),\n",
    "                        fontsize=fontsize,\n",
    "                        horizontalalignment='center',\n",
    "                        verticalalignment='center')\n",
    "\n",
    "    # Add finishing touches\n",
    "    ax.grid(True, linestyle=':')\n",
    "    ax.set_title(title, fontsize=fontsize)\n",
    "    ax.set_xlabel('Prediction', fontsize=fontsize)\n",
    "    ax.set_ylabel('Actual', fontsize=fontsize)\n",
    "\n",
    "    plt.savefig(\"SVC.png\")\n",
    "    plt.show()\n",
    "\n",
    "\n",
    "if __name__ == '__main__':\n",
    "    matrix = svc_conf_matrix \n",
    "    labels = ['Average','Bad',\"Excellent\", \"Good\"]\n",
    "    \n",
    "    fig, ax = plt.subplots(figsize=(10, 10))\n",
    "    \n",
    "    plot_confusion_matrix(ax, matrix, labels, fontsize=10)"
   ]
  }
 ],
 "metadata": {
  "kernelspec": {
   "display_name": "Python 3",
   "language": "python",
   "name": "python3"
  },
  "language_info": {
   "codemirror_mode": {
    "name": "ipython",
    "version": 3
   },
   "file_extension": ".py",
   "mimetype": "text/x-python",
   "name": "python",
   "nbconvert_exporter": "python",
   "pygments_lexer": "ipython3",
   "version": "3.6.4"
  }
 },
 "nbformat": 4,
 "nbformat_minor": 2
}
